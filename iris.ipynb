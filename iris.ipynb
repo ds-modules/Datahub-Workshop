{
 "cells": [
  {
   "cell_type": "markdown",
   "id": "c5810322-68f6-45a2-9f5e-71e76f65402f",
   "metadata": {},
   "source": [
    "# Intro to Datahub Workshop\n",
    "Welcome to the \"Teaching with Jupyter Notebooks in Python and R - Intro to Datahub\" workshop! This Jupyter notebook will walk you through the varied steps to perform logistic regression using IRIS dataset. The IRIS dataset is a popular dataset in machine learning and statistics. It was introduced by the British biologist and statistician Ronald A. Fisher in his 1936 paper \"The Use of Multiple Measurements in Taxonomic Problems.\" The dataset consists of measurements of four features from three different species of iris flowers: Setosa, Versicolor, and Virginica."
   ]
  },
  {
   "cell_type": "code",
   "execution_count": null,
   "id": "c20c469f-92e8-4f64-8112-102f667bce56",
   "metadata": {},
   "outputs": [],
   "source": [
    "# Installling Scikit learn package required in this noteboook\n",
    "try:\n",
    "    import sklearn\n",
    "except ImportError:\n",
    "    !pip install scikit-learn"
   ]
  },
  {
   "cell_type": "code",
   "execution_count": null,
   "id": "efd7276f-2d49-4d1b-aae6-47897d0a28cc",
   "metadata": {},
   "outputs": [],
   "source": [
    "# Importing all the packages required to run computation in this notebook\n",
    "import pandas as pd\n",
    "import matplotlib.pyplot as plt\n",
    "from sklearn.model_selection import train_test_split\n",
    "from sklearn.linear_model import LogisticRegression\n",
    "from sklearn.metrics import accuracy_score, classification_report\n",
    "from sklearn.datasets import load_iris\n",
    "from sklearn.datasets import load_iris"
   ]
  },
  {
   "cell_type": "markdown",
   "id": "0b219fc9-fe6c-47da-8def-8c15c265eb51",
   "metadata": {},
   "source": [
    "Overall, the following code sets up the Iris dataset, provides basic information about its structure, and prepares the data for use in machine learning tasks."
   ]
  },
  {
   "cell_type": "code",
   "execution_count": null,
   "id": "f936f2e0-5ff5-4ecf-9f8a-6bd4e47805f2",
   "metadata": {},
   "outputs": [],
   "source": [
    "# Load the Iris dataset\n",
    "iris = load_iris()\n",
    "\n",
    "# Display information about the dataset\n",
    "print(\"Features:\", iris.feature_names)\n",
    "print(\"Target classes:\", iris.target_names)\n",
    "print(\"Number of samples:\", len(iris.data))\n",
    "\n",
    "# Access the data and target\n",
    "X = iris.data  # Features\n",
    "y = iris.target  # Target\n",
    "\n",
    "# Now you can use X and y in your machine learning model"
   ]
  },
  {
   "cell_type": "markdown",
   "id": "06d0c586-4302-4194-b942-85d89979f531",
   "metadata": {},
   "source": [
    "This code snippet creates a DataFrame for the Iris dataset, selects two features for a scatter plot, and uses matplotlib package to visualize the data with different colors for each target class."
   ]
  },
  {
   "cell_type": "code",
   "execution_count": null,
   "id": "0ee7eaf6-0cb7-48c1-9d8c-bb061da3cf5d",
   "metadata": {},
   "outputs": [],
   "source": [
    "# Create a DataFrame for easier data manipulation\n",
    "iris_df = pd.DataFrame(data=iris.data, columns=iris.feature_names)\n",
    "iris_df['target'] = iris.target\n",
    "\n",
    "# Scatter plot for the first two features (change 'x_feature' and 'y_feature' accordingly)\n",
    "x_feature = 'sepal length (cm)'\n",
    "y_feature = 'sepal width (cm)'\n",
    "\n",
    "# Create a scatter plot\n",
    "plt.figure(figsize=(8, 6))\n",
    "for target_class in iris.target_names:\n",
    "    class_data = iris_df[iris_df['target'] == iris.target_names.tolist().index(target_class)]\n",
    "    plt.scatter(class_data[x_feature], class_data[y_feature], label=target_class)\n",
    "\n",
    "# Add labels and title\n",
    "plt.xlabel(x_feature)\n",
    "plt.ylabel(y_feature)\n",
    "plt.title(f'Scatter Plot of {x_feature} vs {y_feature}')\n",
    "plt.legend()\n",
    "plt.show()\n"
   ]
  },
  {
   "cell_type": "markdown",
   "id": "fe84d938-580e-4552-ae0b-a98bbdb1b17f",
   "metadata": {},
   "source": [
    "The following code snippet performs logistic regression on the Iris dataset, splits the data, trains the model, makes predictions, and evaluates its performance. The results are then printed for analysis."
   ]
  },
  {
   "cell_type": "code",
   "execution_count": null,
   "id": "c9b9188f-e764-4006-91f2-0e1d2dc1cbbc",
   "metadata": {},
   "outputs": [],
   "source": [
    "#Perform logistic regression on the iris dataset\n",
    "\n",
    "# Split the dataset into features (X) and target labels (y)\n",
    "X = iris.data\n",
    "y = iris.target\n",
    "\n",
    "# Split the data into training and testing sets\n",
    "X_train, X_test, y_train, y_test = train_test_split(X, y, test_size=0.2, random_state=42)\n",
    "\n",
    "# Initialize the logistic regression model\n",
    "model = LogisticRegression()\n",
    "\n",
    "# Train the model on the training set\n",
    "model.fit(X_train, y_train)\n",
    "\n",
    "# Make predictions on the testing set\n",
    "predictions = model.predict(X_test)\n",
    "\n",
    "# Evaluate the model\n",
    "accuracy = accuracy_score(y_test, predictions)\n",
    "classification_report_str = classification_report(y_test, predictions, target_names=iris.target_names)\n",
    "\n",
    "# Print the results\n",
    "print(f\"Accuracy: {accuracy:.2f}\")\n",
    "print(\"Classification Report:\\n\", classification_report_str)\n"
   ]
  }
 ],
 "metadata": {
  "kernelspec": {
   "display_name": "Python 3 (ipykernel)",
   "language": "python",
   "name": "python3"
  },
  "language_info": {
   "codemirror_mode": {
    "name": "ipython",
    "version": 3
   },
   "file_extension": ".py",
   "mimetype": "text/x-python",
   "name": "python",
   "nbconvert_exporter": "python",
   "pygments_lexer": "ipython3",
   "version": "3.8.15"
  }
 },
 "nbformat": 4,
 "nbformat_minor": 5
}
